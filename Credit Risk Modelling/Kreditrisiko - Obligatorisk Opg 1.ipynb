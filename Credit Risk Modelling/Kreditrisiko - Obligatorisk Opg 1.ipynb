{
 "cells": [
  {
   "cell_type": "code",
   "execution_count": 7,
   "metadata": {
    "collapsed": true
   },
   "outputs": [],
   "source": [
    "# Importing the nessecary modules\n",
    "import numpy as np\n",
    "from scipy import stats\n",
    "import matplotlib.pyplot as plt\n",
    "import seaborn as sns\n",
    "\n",
    "import pandas as pd\n",
    "df = pd.DataFrame\n",
    "df1 = pd.DataFrame(data=np.linspace(0, 200, 200,  dtype=int), columns=['V'] )"
   ]
  },
  {
   "cell_type": "code",
   "execution_count": 9,
   "outputs": [],
   "source": [
    "# Parameters\n",
    "V = 130\n",
    "D = 50\n",
    "r = 0.01\n",
    "sigma = 0.25\n",
    "T = 10\n",
    "q = 0\n",
    "λ = 0.1\n",
    "k = -0.1\n",
    "γ = np.log(0.8)\n",
    "δ = np.sqrt(0.1)"
   ],
   "metadata": {
    "collapsed": false,
    "pycharm": {
     "name": "#%%\n"
    }
   }
  },
  {
   "cell_type": "code",
   "execution_count": 3,
   "outputs": [],
   "source": [
    "# Time to maturity\n",
    "dt = 1/1000\n",
    "tau = np.arange(dt, T+dt, dt)"
   ],
   "metadata": {
    "collapsed": false,
    "pycharm": {
     "name": "#%%\n"
    }
   }
  },
  {
   "cell_type": "code",
   "execution_count": 17,
   "outputs": [],
   "source": [
    "# Lambda functions\n",
    "\n",
    "# Normal CDF\n",
    "N = lambda x: stats.norm.cdf(x)\n",
    "\n",
    "# Black-Scholes Call price\n",
    "def C_BS(V, D, T):\n",
    "    d1 = (np.log(V/D) + (r + 0.5*sigma**2)*T ) / ( sigma*np.sqrt(T) )\n",
    "    d2 = d1 - sigma*np.sqrt(T)\n",
    "    return V*N(d1) - np.exp(-r*T)*D*N(d2)\n",
    "\n",
    "# Posisson PMF\n",
    "P = lambda x, k: stats.poisson.pmf(x, k)\n",
    "\n",
    "# Yield spreads (bps)\n",
    "s = lambda Model: 10000 * (np.log(D/Model) / tau - r)\n"
   ],
   "metadata": {
    "collapsed": false,
    "pycharm": {
     "name": "#%%\n"
    }
   }
  },
  {
   "cell_type": "code",
   "execution_count": 14,
   "outputs": [],
   "source": [
    "\n",
    "# Black-Scholes Call price\n",
    "def C_BS(V, D, T):\n",
    "    d1 = (np.log(V/D) + (r + 0.5*sigma**2)*T ) / ( sigma*np.sqrt(T) )\n",
    "    d2 = d1 - sigma*np.sqrt(T)\n",
    "    return V*N(d1) - np.exp(-r*T)*D*N(d2)\n"
   ],
   "metadata": {
    "collapsed": false,
    "pycharm": {
     "name": "#%%\n"
    }
   }
  },
  {
   "cell_type": "code",
   "execution_count": null,
   "outputs": [],
   "source": [
    "# Defining the call option for regular and jump values\n",
    "\n",
    "\n",
    "def BS_call(V, D, T, extension='normal'):\n",
    "\n",
    "    if extension.lower() == 'jump':\n",
    "        n = 0\n",
    "        n_list = []\n",
    "        p_list = []\n",
    "        BS_list = []\n",
    "\n",
    "        Poisson_prob = P(n, λ*(1+k)*T)\n",
    "\n",
    "\n",
    "        while round(Poisson_prob,4) > 0:\n",
    "            Poisson_prob = P(n, λ*(1+k)*T)\n",
    "\n",
    "            vol_n = (sigma**2+n*0.1/1)**.5\n",
    "\n",
    "            r_n = r - λ* k + n *np.log(1+k)/T\n",
    "\n",
    "            d1 = np.log(V/(np.exp(-r_n*T)*D))/(vol_n*np.sqrt(T))+(1/2)*vol_n*np.sqrt(T)\n",
    "\n",
    "            BS = np.exp(-q*T)*V*N(d1)-np.exp(-r_n*T)*D*N(d1-vol_n*np.sqrt(T))\n",
    "\n",
    "            n_list.append(n)\n",
    "            p_list.append(Poisson_prob)\n",
    "            BS_list.append(BS)\n",
    "\n",
    "            sumproduct = sum(x * y for x, y in zip(p_list, BS_list))\n",
    "\n",
    "\n",
    "\n",
    "            n += 1\n",
    "\n",
    "            if n == 50:\n",
    "                break\n",
    "\n",
    "        return sumproduct\n",
    "    else:\n",
    "        d1 = (np.log(V/D) + (r + 0.5*sigma**2)*T ) / ( sigma*np.sqrt(T) )\n",
    "        d2 = d1 - sigma*np.sqrt(T)\n",
    "        return V*N(d1) - np.exp(-r*T)*D*N(d2)\n"
   ],
   "metadata": {
    "collapsed": false,
    "pycharm": {
     "name": "#%%\n"
    }
   }
  },
  {
   "cell_type": "code",
   "execution_count": 15,
   "outputs": [
    {
     "ename": "TypeError",
     "evalue": "'type' object is not subscriptable",
     "output_type": "error",
     "traceback": [
      "\u001B[1;31m---------------------------------------------------------------------------\u001B[0m",
      "\u001B[1;31mTypeError\u001B[0m                                 Traceback (most recent call last)",
      "\u001B[1;32m<ipython-input-15-3123f2d9031c>\u001B[0m in \u001B[0;36m<module>\u001B[1;34m\u001B[0m\n\u001B[1;32m----> 1\u001B[1;33m \u001B[0mdf\u001B[0m\u001B[1;33m[\u001B[0m\u001B[1;34m'B'\u001B[0m\u001B[1;33m]\u001B[0m \u001B[1;33m=\u001B[0m \u001B[0mV\u001B[0m \u001B[1;33m-\u001B[0m \u001B[0mC_BS\u001B[0m\u001B[1;33m(\u001B[0m\u001B[0mdf\u001B[0m\u001B[1;33m[\u001B[0m\u001B[1;34m'V'\u001B[0m\u001B[1;33m]\u001B[0m\u001B[1;33m,\u001B[0m \u001B[1;36m100\u001B[0m\u001B[1;33m,\u001B[0m \u001B[0mT\u001B[0m\u001B[1;33m)\u001B[0m\u001B[1;33m\u001B[0m\u001B[1;33m\u001B[0m\u001B[0m\n\u001B[0m\u001B[0;32m      2\u001B[0m \u001B[1;31m# df['S'] = BS_call(df['V'], 100, 10, extension='normal')\u001B[0m\u001B[1;33m\u001B[0m\u001B[1;33m\u001B[0m\u001B[1;33m\u001B[0m\u001B[0m\n",
      "\u001B[1;31mTypeError\u001B[0m: 'type' object is not subscriptable"
     ]
    }
   ],
   "source": [
    "df['B'] =\n"
   ],
   "metadata": {
    "collapsed": false,
    "pycharm": {
     "name": "#%%\n"
    }
   }
  }
 ],
 "metadata": {
  "kernelspec": {
   "display_name": "Python 3",
   "language": "python",
   "name": "python3"
  },
  "language_info": {
   "codemirror_mode": {
    "name": "ipython",
    "version": 2
   },
   "file_extension": ".py",
   "mimetype": "text/x-python",
   "name": "python",
   "nbconvert_exporter": "python",
   "pygments_lexer": "ipython2",
   "version": "2.7.6"
  }
 },
 "nbformat": 4,
 "nbformat_minor": 0
}