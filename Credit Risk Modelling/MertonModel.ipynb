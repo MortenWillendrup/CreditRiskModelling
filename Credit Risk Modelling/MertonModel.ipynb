{
 "cells": [
  {
   "cell_type": "markdown",
   "metadata": {
    "collapsed": true,
    "pycharm": {
     "name": "#%% md\n"
    }
   },
   "source": [
    "Merton model"
   ]
  },
  {
   "cell_type": "code",
   "execution_count": 5,
   "outputs": [],
   "source": [
    "import scipy.stats as si\n",
    "from sympy import init_printing\n",
    "init_printing()\n",
    "\n",
    "\n",
    "\n",
    "def bs_call(v, D, T, r, sigma):\n",
    "    # S: spot price\n",
    "    # K: strike price\n",
    "    # T: time to maturity\n",
    "    # r: interest rate\n",
    "    # sigma: volatility of underlying asset\n",
    "\n",
    "    d1 = (np.log(v / D) + (0.5 * sigma ** 2) * T + r*T) / (sigma * np.sqrt(T))\n",
    "    d2 = d1 - sigma * np.sqrt(T)\n",
    "\n",
    "    call = (v * si.norm.cdf(d1, 0.0, 1.0) - D * np.exp(-r * T) * si.norm.cdf(d2, 0.0, 1.0))\n",
    "\n",
    "    return call"
   ],
   "metadata": {
    "collapsed": false,
    "pycharm": {
     "name": "#%%\n"
    }
   }
  },
  {
   "cell_type": "code",
   "execution_count": 24,
   "outputs": [
    {
     "name": "stdout",
     "output_type": "stream",
     "text": [
      " Senior Equity value = 50.51\n",
      " Senior Debt value = 49.49\n",
      " Junior Equity value = 10.40\n",
      " Junior Debt value = 40.11\n"
     ]
    }
   ],
   "source": [
    "\n",
    "def merton_equity(v, d, sigma, r, t,T):\n",
    "    \"\"\"\n",
    "    v - Value of firm\n",
    "    d - ZCB value\n",
    "    sigma - volatility\n",
    "    r - riskfree interest rate\n",
    "    T - Last period\n",
    "    t - current period\n",
    "    \"\"\"\n",
    "    period = T-t\n",
    "\n",
    "    d1 = (np.log(v / d) + (0.5 * sigma ** 2) * period + r * period) / (sigma * np.sqrt(period))\n",
    "    d2 = d1 - sigma * np.sqrt(period)\n",
    "\n",
    "    equity = (v * si.norm.cdf(d1, 0.0, 1.0) - d * np.exp(-r * period) * si.norm.cdf(d2, 0.0, 1.0))\n",
    "\n",
    "    return equity\n",
    "print(f' Senior Equity value = {merton_equity(100, 50 , 0.25, 0.010, 0 , 1):.2f}')\n",
    "print(f' Senior Debt value = {100-merton_equity(100, 50, 0.25, 0.010, 0, 1):.2f}')\n",
    "\n",
    "print(f' Junior Equity value = {merton_equity(100, 100 , 0.250, 0.010, 0 , 1):.2f}')\n",
    "print(f' Junior Debt value = {merton_equity(100, 50 , 0.250, 0.010, 0 , 1)-merton_equity(100, 100, 0.25, 0.010, 0, 1):.2f}')"
   ],
   "metadata": {
    "collapsed": false,
    "pycharm": {
     "name": "#%%\n"
    }
   }
  },
  {
   "cell_type": "code",
   "execution_count": 15,
   "outputs": [
    {
     "name": "stdout",
     "output_type": "stream",
     "text": [
      "30.298158655463766\n"
     ]
    }
   ],
   "source": [
    "def merton_debt(v, d, sigma, r, t, T):\n",
    "    debt = v - merton_equity(v, d, sigma, r, t, T)\n",
    "\n",
    "    return debt\n",
    "\n",
    "print(merton_debt(100, 50, 0.20, 0.10, 0, 5))\n"
   ],
   "metadata": {
    "collapsed": false,
    "pycharm": {
     "name": "#%%\n"
    }
   }
  },
  {
   "cell_type": "markdown",
   "source": [
    "Making a DataFrame to illustrate the value debt and equity as a fuction of the firm's asset value"
   ],
   "metadata": {
    "collapsed": false
   }
  },
  {
   "cell_type": "code",
   "execution_count": 2,
   "outputs": [
    {
     "name": "stderr",
     "output_type": "stream",
     "text": [
      "c:\\users\\johan\\onedrive - university of copenhagen\\8. semester\\kreditrisiko\\python\\venv\\lib\\site-packages\\pandas\\core\\arraylike.py:358: RuntimeWarning: divide by zero encountered in log\n",
      "  result = getattr(ufunc, method)(*inputs, **kwargs)\n"
     ]
    },
    {
     "data": {
      "text/plain": "<Figure size 432x288 with 1 Axes>",
      "image/png": "[encoded data removed]"
     },
     "metadata": {},
     "output_type": "display_data"
    }
   ],
   "source": [
    "import numpy as np\n",
    "import pandas as pd\n",
    "\n",
    "df = pd.DataFrame(data=np.linspace(0, 200, 200,  dtype=int), columns=['V'] )\n",
    "\n",
    "param = {\n",
    "            \"v\": 180,\n",
    "            \"Ds\": 50,\n",
    "            \"Dj\": 50,\n",
    "            \"r\": 0.01,\n",
    "            \"sigma\": 0.25,\n",
    "            \"T\": 1\n",
    "        }\n",
    "\n",
    "df['B'] = merton_debt(df['V'], 100, 0.25, 0.01, 0, 1)\n",
    "\n",
    "df['S'] = merton_equity(df['V'], 100, 0.25, 0.01, 0, 1)\n",
    "\n",
    "import matplotlib.pyplot as plt\n",
    "import seaborn as sns\n",
    "sns.set()\n",
    "\n",
    "sns.lineplot(data=[df['B'],df['S']])\n",
    "plt.legend(['Debt','Equity'], ncol=2, loc='upper left')\n",
    "plt.xlabel('V')\n",
    "# plt.ylabel('')\n",
    "plt.show()"
   ],
   "metadata": {
    "collapsed": false,
    "pycharm": {
     "name": "#%%\n"
    }
   }
  },
  {
   "cell_type": "markdown",
   "source": [
    "Fuctions for junior and senior debt"
   ],
   "metadata": {
    "collapsed": false,
    "pycharm": {
     "name": "#%% md\n"
    }
   }
  },
  {
   "cell_type": "code",
   "execution_count": 3,
   "outputs": [],
   "source": [
    "\n",
    "def Senior_debt(v, ds, T, r, sigma):\n",
    "    # S: spot price\n",
    "    # K: strike price\n",
    "    # T: time to maturity\n",
    "    # r: interest rate\n",
    "    # sigma: volatility of underlying asset\n",
    "\n",
    "    d1 = (np.log(v / ds) + (0.5 * sigma ** 2) * T + r*T) / (sigma * np.sqrt(T))\n",
    "    d2 = d1 - sigma * np.sqrt(T)\n",
    "\n",
    "    Senior_debt = v - (v * si.norm.cdf(d1, 0.0, 1.0) - ds * np.exp(-r * T) * si.norm.cdf(d2, 0.0, 1.0))\n",
    "\n",
    "    return Senior_debt\n",
    "\n",
    "\n",
    "def Junior_debt(v, ds, dj, T, r, sigma):\n",
    "    # S     : value of firm\n",
    "    # ds    : senior debt\n",
    "    # dj    : junior debt\n",
    "    # T     : time to maturity\n",
    "    # r: interest rate\n",
    "    # sigma: volatility of underlying asset\n",
    "\n",
    "    d1 = (np.log(v / (ds+dj)) + (0.5 * sigma ** 2) * T + r*T) / (sigma * np.sqrt(T))\n",
    "    d2 = d1 - sigma * np.sqrt(T)\n",
    "\n",
    "    d1_senior = (np.log(v / ds) + (0.5 * sigma ** 2) * T + r*T) / (sigma * np.sqrt(T))\n",
    "    d2_senior = d1_senior - sigma * np.sqrt(T)\n",
    "\n",
    "    Junior_debt = (v * si.norm.cdf(d1_senior, 0.0, 1.0) - ds * np.exp(-r * T) * si.norm.cdf(d2_senior, 0.0, 1.0)) \\\n",
    "                  - (v * si.norm.cdf(d1, 0.0, 1.0) - (ds+dj) * np.exp(-r * T) * si.norm.cdf(d2, 0.0, 1.0))\n",
    "\n",
    "\n",
    "    return Junior_debt\n",
    "\n",
    "\n",
    "def sub_equity(v, ds, dj, T, r, sigma):\n",
    "    # S     : value of firm\n",
    "    # ds    : senior debt\n",
    "    # dj    : junior debt\n",
    "    # T     : time to maturity\n",
    "    # r: interest rate\n",
    "    # sigma: volatility of underlying asset\n",
    "\n",
    "    d1 = (np.log(v / (ds+dj)) + (0.5 * sigma ** 2) * T + r*T) / (sigma * np.sqrt(T))\n",
    "    d2 = d1 - sigma * np.sqrt(T)\n",
    "\n",
    "    sub_equity = (v * si.norm.cdf(d1, 0.0, 1.0) - (ds+dj) * np.exp(-r * T) * si.norm.cdf(d2, 0.0, 1.0))\n",
    "    return sub_equity\n"
   ],
   "metadata": {
    "collapsed": false,
    "pycharm": {
     "name": "#%%\n"
    }
   }
  },
  {
   "cell_type": "code",
   "execution_count": 1,
   "outputs": [],
   "source": [
    "def sen_debt(V, Ds, Dj, r, T, sigma):\n",
    "    import scipy.stats as si\n",
    "    import numpy as np\n",
    "    PV = Ds*np.exp(-r*T)\n",
    "    d1 = (np.log(V/Ds)+(r+sigma**2/2)*T)/(sigma*np.sqrt(T))\n",
    "    d2 = d1-sigma*np.sqrt(T)\n",
    "    n1 = si.norm.cdf(d1, 0, 1)\n",
    "    n2 = si.norm.cdf(d2, 0, 1)\n",
    "\n",
    "    sen_deb = V * n1 - PV*n2\n",
    "\n",
    "    sub_PV = (Ds+Dj)*np.exp(-r*T)\n",
    "    sub_d1 = (np.log(V/(Ds+Dj))+(r+sigma**2/2)*T)/(sigma*np.sqrt(T))\n",
    "    sub_d2 = sub_d1-sigma*np.sqrt(T)\n",
    "    sub_n1 = si.norm.cdf(sub_d1, 0, 1)\n",
    "    sub_n2 = si.norm.cdf(sub_d2, 0, 1)\n",
    "\n",
    "    sub_deb = sen_deb - (V * sub_n1 - sub_PV*sub_n2)\n",
    "\n",
    "    return sen_deb\n",
    "\n",
    "def sub_debt(V, Ds, Dj, r, T, sigma):\n",
    "    import scipy.stats as si\n",
    "    import numpy as np\n",
    "    PV = Ds*np.exp(-r*T)\n",
    "    d1 = (np.log(V/Ds)+(r+sigma**2/2)*T)/(sigma*np.sqrt(T))\n",
    "    d2 = d1-sigma*np.sqrt(T)\n",
    "    n1 = si.norm.cdf(d1, 0, 1)\n",
    "    n2 = si.norm.cdf(d2, 0, 1)\n",
    "\n",
    "    sen_deb = V * n1 - PV*n2\n",
    "\n",
    "    sub_PV = (Ds+Dj)*np.exp(-r*T)\n",
    "    sub_d1 = (np.log(V/(Ds+Dj))+(r+sigma**2/2)*T)/(sigma*np.sqrt(T))\n",
    "    sub_d2 = sub_d1-sigma*np.sqrt(T)\n",
    "    sub_n1 = si.norm.cdf(sub_d1, 0, 1)\n",
    "    sub_n2 = si.norm.cdf(sub_d2, 0, 1)\n",
    "\n",
    "    sub_deb = sen_deb - (V * sub_n1 - sub_PV*sub_n2)\n",
    "\n",
    "    return sub_deb\n",
    "\n",
    "# print(sen_debt(100, 50, 50, 0.01, 1, 0.25))\n",
    "# print(sub_debt(100, 50, 50, 0.01, 1, 0.25))"
   ],
   "metadata": {
    "collapsed": false,
    "pycharm": {
     "name": "#%%\n"
    }
   }
  },
  {
   "cell_type": "markdown",
   "source": [
    "Merton Credit Spread"
   ],
   "metadata": {
    "collapsed": false,
    "pycharm": {
     "name": "#%% md\n"
    }
   }
  },
  {
   "cell_type": "code",
   "execution_count": null,
   "outputs": [],
   "source": [
    "\n",
    "\n"
   ],
   "metadata": {
    "collapsed": false,
    "pycharm": {
     "name": "#%%\n"
    }
   }
  },
  {
   "cell_type": "code",
   "execution_count": 2,
   "outputs": [],
   "source": [
    "import pandas as pd\n",
    "import numpy as np\n",
    "df_90 = pd.DataFrame(data=np.linspace(1, 30, 30,  dtype=int), columns=['T'] )\n",
    "df_90['Senior Face value'] = 50\n",
    "df_90['Junior Face value'] = 100\n",
    "df_90['Senior Debt'] = round(sen_debt(90, 50, 50, 0.01, df_90['T'], 0.25),2 )\n",
    "df_90['Junior Debt'] = round(sub_debt(90, 50, 50, 0.01, df_90['T'], 0.25),2 )\n",
    "\n",
    "\n",
    "df_180 = pd.DataFrame(data=np.linspace(1, 30, 30,  dtype=int), columns=['T'] )\n",
    "df_180['Senior Face value'] = 50\n",
    "df_180['Junior Face value'] = 100\n",
    "df_180['Senior Debt'] = round(sen_debt(180, 50, 50, 0.01, df_180['T'], 0.25),2 )\n",
    "df_180['Junior Debt'] = round(sub_debt(180, 50, 50, 0.01, df_180['T'], 0.25),2 )"
   ],
   "metadata": {
    "collapsed": false,
    "pycharm": {
     "name": "#%%\n"
    }
   }
  },
  {
   "cell_type": "code",
   "execution_count": 3,
   "outputs": [],
   "source": [
    "import seaborn as sns\n",
    "import matplotlib.pyplot as plt"
   ],
   "metadata": {
    "collapsed": false,
    "pycharm": {
     "name": "#%%\n"
    }
   }
  },
  {
   "cell_type": "code",
   "execution_count": 4,
   "outputs": [
    {
     "data": {
      "text/plain": "<Figure size 432x288 with 1 Axes>",
      "image/png": "[encoded data removed]"
     },
     "metadata": {
      "needs_background": "light"
     },
     "output_type": "display_data"
    },
    {
     "data": {
      "text/plain": "<Figure size 432x288 with 0 Axes>"
     },
     "metadata": {},
     "output_type": "display_data"
    }
   ],
   "source": [
    "sns.lineplot(data=[df_90['Senior Debt'], df_90['Junior Debt']])\n",
    "plt.show()\n",
    "plt.clf()"
   ],
   "metadata": {
    "collapsed": false,
    "pycharm": {
     "name": "#%%\n"
    }
   }
  },
  {
   "cell_type": "code",
   "execution_count": 5,
   "outputs": [
    {
     "data": {
      "text/plain": "<Figure size 432x288 with 1 Axes>",
      "image/png": "[encoded data removed]"
     },
     "metadata": {
      "needs_background": "light"
     },
     "output_type": "display_data"
    }
   ],
   "source": [
    "sns.lineplot(data=[df_180['Senior Debt'], df_180['Junior Debt']])\n",
    "plt.show()"
   ],
   "metadata": {
    "collapsed": false,
    "pycharm": {
     "name": "#%%\n"
    }
   }
  },
  {
   "cell_type": "code",
   "execution_count": 21,
   "outputs": [
    {
     "name": "stdout",
     "output_type": "stream",
     "text": [
      "0.023081042114986274\n"
     ]
    }
   ],
   "source": [
    "def CreditSpread(D, F, r, t, T):\n",
    "    import numpy as np\n",
    "    tau = T-t\n",
    "    CS = (1/tau)*np.log(D/F)-r\n",
    "\n",
    "    return CS\n",
    "\n",
    "print(CreditSpread(df_180.iloc[1,3], 50, 0.01, 2, len(df_180['T'])))\n",
    "\n",
    "\n",
    "# print(len(df_180['T']))"
   ],
   "metadata": {
    "collapsed": false,
    "pycharm": {
     "name": "#%%\n"
    }
   }
  },
  {
   "cell_type": "code",
   "execution_count": 8,
   "outputs": [
    {
     "data": {
      "text/plain": "<Figure size 432x288 with 1 Axes>",
      "image/png": "[encoded data removed]"
     },
     "metadata": {
      "needs_background": "light"
     },
     "output_type": "display_data"
    }
   ],
   "source": [
    "import pandas as pd\n",
    "import numpy as np\n",
    "\n",
    "def credit_spread(V, F, r, t, T, sigma):\n",
    "    import scipy.stats as si\n",
    "    import numpy as np\n",
    "    PV = F*np.exp(-r*T)\n",
    "    d1 = (np.log(V/F)+(r+sigma**2/2)*T)/(sigma*np.sqrt(T))\n",
    "    d2 = d1-sigma*np.sqrt(T)\n",
    "    n1 = si.norm.cdf(d1, 0, 1)\n",
    "    n2 = si.norm.cdf(d2, 0, 1)\n",
    "\n",
    "    debt = V * n1 - PV*n2\n",
    "\n",
    "    tau = T-t\n",
    "\n",
    "    spread = (1/tau)*np.log(debt/F)-r\n",
    "\n",
    "    return spread\n",
    "\n",
    "\n",
    "\n",
    "df_150 = pd.DataFrame(data=np.linspace(1, 10, 10,  dtype=int), columns=['T'] )\n",
    "\n",
    "df_150['spread'] = credit_spread(150, 100, 0.05, df_150['T'], len( df_150['T']), 0.20)\n",
    "import seaborn as sns\n",
    "import matplotlib.pyplot as plt\n",
    "sns.lineplot(data=[df_150['spread']])\n",
    "plt.show()\n"
   ],
   "metadata": {
    "collapsed": false,
    "pycharm": {
     "name": "#%%\n"
    }
   }
  }
 ],
 "metadata": {
  "kernelspec": {
   "display_name": "Python 3",
   "language": "python",
   "name": "python3"
  },
  "language_info": {
   "codemirror_mode": {
    "name": "ipython",
    "version": 2
   },
   "file_extension": ".py",
   "mimetype": "text/x-python",
   "name": "python",
   "nbconvert_exporter": "python",
   "pygments_lexer": "ipython2",
   "version": "2.7.6"
  }
 },
 "nbformat": 4,
 "nbformat_minor": 0
}