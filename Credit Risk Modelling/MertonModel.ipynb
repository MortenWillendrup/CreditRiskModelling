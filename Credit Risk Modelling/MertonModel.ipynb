{
 "cells": [
  {
   "cell_type": "markdown",
   "metadata": {
    "collapsed": true,
    "pycharm": {
     "name": "#%% md\n"
    }
   },
   "source": [
    "Merton model"
   ]
  },
  {
   "cell_type": "code",
   "execution_count": 2,
   "outputs": [],
   "source": [
    "import numpy as np\n",
    "import scipy.stats as si\n",
    "from sympy import init_printing\n",
    "init_printing()\n",
    "\n",
    "\n",
    "\n",
    "def bs_call(v, D, T, r, sigma):\n",
    "    # S: spot price\n",
    "    # K: strike price\n",
    "    # T: time to maturity\n",
    "    # r: interest rate\n",
    "    # sigma: volatility of underlying asset\n",
    "\n",
    "    d1 = (np.log(v / D) + (0.5 * sigma ** 2) * T + r*T) / (sigma * np.sqrt(T))\n",
    "    d2 = d1 - sigma * np.sqrt(T)\n",
    "\n",
    "    call = (v * si.norm.cdf(d1, 0.0, 1.0) - D * np.exp(-r * T) * si.norm.cdf(d2, 0.0, 1.0))\n",
    "\n",
    "    return call\n",
    "\n",
    "def merton_equity(v, d, sigma, r, t,T):\n",
    "    \"\"\"\n",
    "    v - Value of firm\n",
    "    d - ZCB value\n",
    "    sigma - volatility\n",
    "    r - riskfree interest rate\n",
    "    T - Last period\n",
    "    t - current period\n",
    "    \"\"\"\n",
    "    period = T-t\n",
    "\n",
    "    d1 = (np.log(v / d) + (0.5 * sigma ** 2) * period + r * period) / (sigma * np.sqrt(period))\n",
    "    d2 = d1 - sigma * np.sqrt(period)\n",
    "\n",
    "    equity = (v * si.norm.cdf(d1, 0.0, 1.0) - d * np.exp(-r * period) * si.norm.cdf(d2, 0.0, 1.0))\n",
    "\n",
    "    return equity\n",
    "\n",
    "def merton_debt(v, d, sigma, r, t, T):\n",
    "    debt = v - merton_equity(v, d, sigma, r, t, T)\n",
    "\n",
    "    return debt\n",
    "\n"
   ],
   "metadata": {
    "collapsed": false,
    "pycharm": {
     "name": "#%%\n"
    }
   }
  },
  {
   "cell_type": "markdown",
   "source": [
    "Making a DataFrame to illustrate the value debt and equity as a fuction of the firm's asset value"
   ],
   "metadata": {
    "collapsed": false
   }
  },
  {
   "cell_type": "code",
   "execution_count": 3,
   "outputs": [
    {
     "name": "stderr",
     "output_type": "stream",
     "text": [
      "c:\\users\\johan\\onedrive - university of copenhagen\\8. semester\\kreditrisiko\\python\\venv\\lib\\site-packages\\pandas\\core\\arraylike.py:358: RuntimeWarning: divide by zero encountered in log\n",
      "  result = getattr(ufunc, method)(*inputs, **kwargs)\n"
     ]
    },
    {
     "data": {
      "text/plain": "<Figure size 432x288 with 1 Axes>",
      "image/png": "[encoded data removed]"
     },
     "metadata": {},
     "output_type": "display_data"
    }
   ],
   "source": [
    "import numpy as np\n",
    "import pandas as pd\n",
    "\n",
    "df = pd.DataFrame(data=np.linspace(0, 200, 200,  dtype=int), columns=['V'] )\n",
    "\n",
    "param = {\n",
    "            \"v\": 180,\n",
    "            \"Ds\": 50,\n",
    "            \"Dj\": 50,\n",
    "            \"r\": 0.01,\n",
    "            \"sigma\": 0.25,\n",
    "            \"T\": 1\n",
    "        }\n",
    "\n",
    "df['B'] = merton_debt(df['V'], 50, 0.25, 0.01, 0, 1)\n",
    "\n",
    "df['S'] = merton_equity(df['V'], 50, 0.25, 0.01, 0, 1)\n",
    "\n",
    "import matplotlib.pyplot as plt\n",
    "import seaborn as sns\n",
    "sns.set()\n",
    "\n",
    "sns.lineplot(data=[df['B'],df['S']])\n",
    "plt.legend(['Debt','Equity'], ncol=2, loc='upper left')\n",
    "plt.xlabel('V')\n",
    "# plt.ylabel('')\n",
    "plt.show()"
   ],
   "metadata": {
    "collapsed": false,
    "pycharm": {
     "name": "#%%\n"
    }
   }
  }
 ],
 "metadata": {
  "kernelspec": {
   "display_name": "Python 3",
   "language": "python",
   "name": "python3"
  },
  "language_info": {
   "codemirror_mode": {
    "name": "ipython",
    "version": 2
   },
   "file_extension": ".py",
   "mimetype": "text/x-python",
   "name": "python",
   "nbconvert_exporter": "python",
   "pygments_lexer": "ipython2",
   "version": "2.7.6"
  }
 },
 "nbformat": 4,
 "nbformat_minor": 0
}