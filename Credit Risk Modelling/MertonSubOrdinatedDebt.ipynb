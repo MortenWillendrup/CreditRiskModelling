{
 "cells": [
  {
   "cell_type": "code",
   "execution_count": 2,
   "metadata": {
    "collapsed": true
   },
   "outputs": [],
   "source": [
    "# Imports\n",
    "import numpy as np\n",
    "from scipy import stats\n",
    "import matplotlib.pyplot as plt\n",
    "import seaborn as sns"
   ]
  },
  {
   "cell_type": "code",
   "execution_count": 3,
   "outputs": [
    {
     "name": "stdout",
     "output_type": "stream",
     "text": [
      "49.502491687458416\n"
     ]
    },
    {
     "name": "stderr",
     "output_type": "stream",
     "text": [
      "c:\\users\\johan\\onedrive - university of copenhagen\\8. semester\\kreditrisiko\\python\\venv\\lib\\site-packages\\pandas\\core\\arraylike.py:358: RuntimeWarning: divide by zero encountered in log\n",
      "  result = getattr(ufunc, method)(*inputs, **kwargs)\n"
     ]
    },
    {
     "data": {
      "text/plain": "<Figure size 432x288 with 1 Axes>",
      "image/png": "[encoded data removed]"
     },
     "metadata": {},
     "output_type": "display_data"
    }
   ],
   "source": [
    "\n",
    "import numpy as np\n",
    "import scipy.stats as si\n",
    "import sympy as sy\n",
    "from sympy.stats import Normal, cdf\n",
    "from sympy import init_printing\n",
    "init_printing()\n",
    "import pandas as pd\n",
    "\n",
    "\n",
    "def bs_call(v, D, T, r, sigma):\n",
    "    # S: spot price\n",
    "    # K: strike price\n",
    "    # T: time to maturity\n",
    "    # r: interest rate\n",
    "    # sigma: volatility of underlying asset\n",
    "\n",
    "    d1 = (np.log(v / D) + (0.5 * sigma ** 2) * T + r*T) / (sigma * np.sqrt(T))\n",
    "    d2 = d1 - sigma * np.sqrt(T)\n",
    "\n",
    "    call = (v * si.norm.cdf(d1, 0.0, 1.0) - D * np.exp(-r * T) * si.norm.cdf(d2, 0.0, 1.0))\n",
    "\n",
    "    return call\n",
    "\n",
    "def merton_equity(v, d, sigma, r, t,T):\n",
    "    \"\"\"\n",
    "    v - Value of firm\n",
    "    d - ZCB value\n",
    "    sigma - volatility\n",
    "    r - riskfree interest rate\n",
    "    T - Last period\n",
    "    t - current period\n",
    "    \"\"\"\n",
    "    period = T-t\n",
    "\n",
    "    d1 = (np.log(v / d) + (0.5 * sigma ** 2) * period + r * period) / (sigma * np.sqrt(period))\n",
    "    d2 = d1 - sigma * np.sqrt(period)\n",
    "\n",
    "    equity = (v * si.norm.cdf(d1, 0.0, 1.0) - d * np.exp(-r * period) * si.norm.cdf(d2, 0.0, 1.0))\n",
    "\n",
    "    return equity\n",
    "\n",
    "def merton_debt(v, d, sigma, r, t, T):\n",
    "    debt = v - merton_equity(v, d, sigma, r, t, T)\n",
    "\n",
    "    return debt\n",
    "\n",
    "\n",
    "print(merton_debt(180, 50, 0.025, 0.01, 0, 1))\n",
    "\n",
    "\n",
    "import numpy as np\n",
    "import pandas as pd\n",
    "\n",
    "df = pd.DataFrame(data=np.linspace(0, 200, 200,  dtype=int), columns=['V'] )\n",
    "\n",
    "param = {\n",
    "            \"v\": 180,\n",
    "            \"Ds\": 50,\n",
    "            \"Dj\": 50,\n",
    "            \"r\": 0.01,\n",
    "            \"sigma\": 0.25,\n",
    "            \"T\": 1\n",
    "        }\n",
    "\n",
    "df['B'] = merton_debt(df['V'], 50, 0.25, 0.01, 0, 1)\n",
    "\n",
    "df['S'] = merton_equity(df['V'], 50, 0.25, 0.01, 0, 1)\n",
    "\n",
    "import matplotlib.pyplot as plt\n",
    "import seaborn as sns\n",
    "sns.set()\n",
    "\n",
    "sns.lineplot(data=[df['B'],df['S']])\n",
    "plt.legend(['Debt','Equity'], ncol=2, loc='upper left')\n",
    "\n",
    "plt.show()\n",
    "\n"
   ],
   "metadata": {
    "collapsed": false,
    "pycharm": {
     "name": "#%%\n"
    }
   }
  },
  {
   "cell_type": "code",
   "execution_count": 4,
   "outputs": [],
   "source": [
    "# Parameters\n",
    "V = 180\n",
    "D = 50\n",
    "r = 0.01\n",
    "σ = 0.25\n",
    "T = 10"
   ],
   "metadata": {
    "collapsed": false,
    "pycharm": {
     "name": "#%%\n"
    }
   }
  },
  {
   "cell_type": "code",
   "execution_count": 5,
   "outputs": [],
   "source": [
    "# Time to maturity\n",
    "dt = 1/1000\n",
    "tau = np.arange(dt, T+dt, dt)"
   ],
   "metadata": {
    "collapsed": false,
    "pycharm": {
     "name": "#%%\n"
    }
   }
  },
  {
   "cell_type": "code",
   "execution_count": 6,
   "outputs": [],
   "source": [
    "\n",
    "\n",
    "# Normal CDF\n",
    "N = lambda x: stats.norm.cdf(x)\n",
    "\n",
    "H = lambda V, T, L: np.exp(-r*T) * N( (np.log(V/L) + (r-0.5*σ**2)*T) / (σ*np.sqrt(T)) )"
   ],
   "metadata": {
    "collapsed": false,
    "pycharm": {
     "name": "#%%\n"
    }
   }
  },
  {
   "cell_type": "code",
   "execution_count": 7,
   "outputs": [],
   "source": [
    "# Black-Scholes Call price\n",
    "def C_BS(V, K, T):\n",
    "    d1 = (np.log(V/K) + (r + 0.5*σ**2)*T ) / ( σ*np.sqrt(T) )\n",
    "    d2 = d1 - σ*np.sqrt(T)\n",
    "    return V*N(d1) - np.exp(-r*T)*K*N(d2)\n",
    "\n",
    "# Senior Debt Call Price\n",
    "def C_Ks(V, Ks, T):\n",
    "    d1 = (np.log(V/Ks) + (r + 0.5*σ**2)*T ) / ( σ*np.sqrt(T) )\n",
    "    d2 = d1 - σ*np.sqrt(T)\n",
    "    return V*N(d1) - np.exp(-r*T)*Ks*N(d2)\n",
    "# Junior Debt Call price\n",
    "def C_Kj(V, Ks, Kj, T):\n",
    "    d1 = (np.log(V/(Ks+Kj)) + (r + 0.5*σ**2)*T ) / ( σ*np.sqrt(T) )\n",
    "    d2 = d1 - σ*np.sqrt(T)\n",
    "    return V*N(d1) - np.exp(-r*T)*(Ks+Kj)*N(d2)\n",
    "\n",
    "\n",
    "\n",
    "\n"
   ],
   "metadata": {
    "collapsed": false,
    "pycharm": {
     "name": "#%%\n"
    }
   }
  },
  {
   "cell_type": "code",
   "execution_count": 8,
   "outputs": [],
   "source": [
    "# Yield spreads (bps)\n",
    "s = lambda Model: 10000 * (np.log(D/Model) / tau - r)"
   ],
   "metadata": {
    "collapsed": false,
    "pycharm": {
     "name": "#%%\n"
    }
   }
  },
  {
   "cell_type": "code",
   "execution_count": 9,
   "outputs": [],
   "source": [
    "# Coordinates for plotting\n",
    "x = tau\n",
    "\n",
    "\n",
    "y_senior_low = s((V-90) - C_Ks((V-90), D, tau))\n",
    "y_senior_high = s(V - C_Ks(V, D, tau))\n",
    "y_junior_low = s(C_Ks((V-90), D, tau) - C_Kj((V-90),D , D, tau))\n",
    "y_junior_high= s(C_Ks(V, D, tau) - C_Kj(V,D , D, tau))"
   ],
   "metadata": {
    "collapsed": false,
    "pycharm": {
     "name": "#%%\n"
    }
   }
  },
  {
   "cell_type": "code",
   "execution_count": 10,
   "outputs": [
    {
     "data": {
      "text/plain": "<Figure size 432x288 with 1 Axes>",
      "image/png": "[encoded data removed]"
     },
     "metadata": {},
     "output_type": "display_data"
    }
   ],
   "source": [
    "sns.lineplot(x=x, y=y_senior_high, label='V=180')\n",
    "sns.lineplot(x=x, y=y_senior_low, label='V=90')\n",
    "# plt.plot(x, y_senior_high, label='V=180')\n",
    "# plt.plot(x, y_senior_low, label='V=90')\n",
    "# plt.plot(x, y_junior_low)\n",
    "plt.title('Senior spread')\n",
    "plt.ylabel('Yield Spread (Bps)')\n",
    "plt.xlabel('Time to maturity')\n",
    "# plt.ylim(0, 200)\n",
    "plt.show()"
   ],
   "metadata": {
    "collapsed": false,
    "pycharm": {
     "name": "#%%\n"
    }
   }
  },
  {
   "cell_type": "code",
   "execution_count": 11,
   "outputs": [
    {
     "data": {
      "text/plain": "<Figure size 432x288 with 1 Axes>",
      "image/png": "[encoded data removed]"
     },
     "metadata": {},
     "output_type": "display_data"
    }
   ],
   "source": [
    "sns.lineplot(x=x, y=y_junior_low, label='V=90')\n",
    "# plt.plot(x, y_junior_low)\n",
    "plt.title('Junior spread, firm value = 90')\n",
    "plt.ylabel('Yield Spread (Bps)')\n",
    "plt.xlabel('Time to maturity')\n",
    "plt.ylim(300, 4000)\n",
    "plt.show()\n"
   ],
   "metadata": {
    "collapsed": false,
    "pycharm": {
     "name": "#%%\n"
    }
   }
  },
  {
   "cell_type": "code",
   "execution_count": 12,
   "outputs": [
    {
     "data": {
      "text/plain": "<Figure size 432x288 with 1 Axes>",
      "image/png": "[encoded data removed]"
     },
     "metadata": {},
     "output_type": "display_data"
    }
   ],
   "source": [
    "plt.plot(x, y_junior_high)\n",
    "# plt.plot(x, y_junior_low)\n",
    "plt.title('Junior spread, firm value = 180')\n",
    "plt.ylabel('Yield Spread (Bps)')\n",
    "plt.xlabel('Time to maturity')\n",
    "# plt.ylim(y_junior_high.max()-20, y_junior_high.max()+20)\n",
    "plt.show()\n",
    "\n",
    "test =s(C_Ks(90, 50, 10) - C_Kj(90,50 , 50, 10))\n",
    "\n",
    "#"
   ],
   "metadata": {
    "collapsed": false,
    "pycharm": {
     "name": "#%%\n"
    }
   }
  },
  {
   "cell_type": "markdown",
   "source": [
    "#### Merton with a jump\n",
    "\n",
    "Now we introduce the idea of having jumps"
   ],
   "metadata": {
    "collapsed": false,
    "pycharm": {
     "name": "#%% md\n"
    }
   }
  },
  {
   "cell_type": "code",
   "execution_count": 13,
   "outputs": [],
   "source": [
    "import numpy as np\n",
    "\n",
    "V = 100\n",
    "sigma = 0.20\n",
    "r = 0.0\n",
    "q = 0\n",
    "λ = 0.1\n",
    "k = -0.1\n",
    "γ = np.log(0.8)\n",
    "δ = np.sqrt(0.1)\n",
    "T= 1\n",
    "D=100\n",
    "\n",
    "λ_prime = λ*(1+k)"
   ],
   "metadata": {
    "collapsed": false,
    "pycharm": {
     "name": "#%%\n"
    }
   }
  },
  {
   "cell_type": "code",
   "execution_count": 35,
   "outputs": [
    {
     "name": "stdout",
     "output_type": "stream",
     "text": [
      "0.0037014213003484756\n"
     ]
    }
   ],
   "source": [
    "# Poisson CDF\n",
    "P = lambda x, k: stats.poisson.pmf(x, k)\n",
    "\n",
    "print(P(2, λ_prime*T))\n",
    "\n",
    "\n"
   ],
   "metadata": {
    "collapsed": false,
    "pycharm": {
     "name": "#%%\n"
    }
   }
  },
  {
   "cell_type": "code",
   "execution_count": 42,
   "outputs": [
    {
     "name": "stdout",
     "output_type": "stream",
     "text": [
      "7.707472946221876\n",
      "BS=8.4333 n=0, Poisson = 0.9139, Sumproduct = 7.7075\n",
      "BS=11.0771 n=1, Poisson = 0.0823, Sumproduct = 8.6186\n",
      "BS=12.1241 n=2, Poisson = 0.0037, Sumproduct = 8.6635\n",
      "BS=12.6453 n=3, Poisson = 0.0001, Sumproduct = 8.6649\n",
      "BS=12.9059 n=4, Poisson = 0.0000, Sumproduct = 8.6649\n"
     ]
    }
   ],
   "source": [
    "import pandas as pd\n",
    "df = pd.DataFrame\n",
    "\n",
    "n_list = []\n",
    "p_list = []\n",
    "BS_list = []\n",
    "\n",
    "n = 0\n",
    "\n",
    "Poisson_prob = P(n, λ_prime*T)\n",
    "\n",
    "\n",
    "def C_BS_jump(n, T, k, V, D, λ):\n",
    "\n",
    "    Poisson_prob = P(n, λ*(1+k)*T)\n",
    "\n",
    "    vol_n = (sigma**2+n*0.1/1)**.5\n",
    "\n",
    "    r_n = r - λ* k + n *np.log(1+k)/T\n",
    "\n",
    "    d1 = np.log(V/(np.exp(-r_n*T)*D))/(vol_n*np.sqrt(T))+(1/2)*vol_n*np.sqrt(T)\n",
    "\n",
    "    BS = np.exp(-q*T)*V*N(d1)-np.exp(-r_n*T)*D*N(d1-vol_n*np.sqrt(T))\n",
    "\n",
    "    return Poisson_prob * BS\n",
    "\n",
    "\n",
    "print(C_BS_jump(0, 1, -0.1, 100, 100, 0.1))\n",
    "\n",
    "\n",
    "\n",
    "    \n",
    "while round(Poisson_prob,4) > 0:\n",
    "    Poisson_prob = P(n, λ_prime*T)\n",
    "\n",
    "    vol_n = (sigma**2+n*0.1/1)**.5\n",
    "\n",
    "    r_n = r - λ* k + n *np.log(1+k)/T\n",
    "\n",
    "    d1 = np.log(V/(np.exp(-r_n*T)*D))/(vol_n*np.sqrt(T))+(1/2)*vol_n*np.sqrt(T)\n",
    "\n",
    "    BS = np.exp(-q*T)*V*N(d1)-np.exp(-r_n*T)*D*N(d1-vol_n*np.sqrt(T))\n",
    "\n",
    "    n_list.append(n)\n",
    "    p_list.append(Poisson_prob)\n",
    "    BS_list.append(BS)\n",
    "\n",
    "    sumproduct = sum(x * y for x, y in zip(p_list, BS_list))\n",
    "\n",
    "    print(f'BS={BS:.4f} n={n}, Poisson = {Poisson_prob:.4f}, Sumproduct = {sumproduct:.4f}')\n",
    "\n",
    "    n += 1\n",
    "\n",
    "    if n == 30:\n",
    "        break\n",
    "\n",
    "\n",
    "\n",
    "\n"
   ],
   "metadata": {
    "collapsed": false,
    "pycharm": {
     "name": "#%%\n"
    }
   }
  },
  {
   "cell_type": "code",
   "execution_count": null,
   "outputs": [],
   "source": [
    "# Poisson Process\n",
    "\n",
    "\n",
    "\n",
    "# Black-Scholes Call price\n",
    "def C_BS_jump(V, D, T, n, r, q, λ, k, γ, δ):\n",
    "\n",
    "\n",
    "    vol_n = (sigma**2+n*δ**2/T)**(1/2)\n",
    "\n",
    "    r_n = r - λ + n *np.log(1+k)/T\n",
    "\n",
    "    λ_prime = λ*(1+k)\n",
    "\n",
    "    d1 = (np.log(V/D) + (r_n + 0.5*vol_n**2)*T ) / ( vol_n*np.sqrt(T) )\n",
    "\n",
    "    d2 = d1 - vol_n*np.sqrt(T)\n",
    "\n",
    "    return V*N(d1) - np.exp(-r_n*T)*D*N(d2)\n",
    "\n",
    "# Senior Debt Call Price\n",
    "def C_Ks(V, Ks, T):\n",
    "    d1 = (np.log(V/Ks) + (r + 0.5*σ**2)*T ) / ( σ*np.sqrt(T) )\n",
    "    d2 = d1 - σ*np.sqrt(T)\n",
    "    return V*N(d1) - np.exp(-r*T)*Ks*N(d2)\n",
    "# Junior Debt Call price\n",
    "def C_Kj(V, Ks, Kj, T):\n",
    "    d1 = (np.log(V/(Ks+Kj)) + (r + 0.5*σ**2)*T ) / ( σ*np.sqrt(T) )\n",
    "    d2 = d1 - σ*np.sqrt(T)\n",
    "    return V*N(d1) - np.exp(-r*T)*(Ks+Kj)*N(d2)\n",
    "\n",
    "\n",
    "\n",
    "\n"
   ],
   "metadata": {
    "collapsed": false,
    "pycharm": {
     "name": "#%%\n"
    }
   }
  }
 ],
 "metadata": {
  "kernelspec": {
   "display_name": "Python 3",
   "language": "python",
   "name": "python3"
  },
  "language_info": {
   "codemirror_mode": {
    "name": "ipython",
    "version": 2
   },
   "file_extension": ".py",
   "mimetype": "text/x-python",
   "name": "python",
   "nbconvert_exporter": "python",
   "pygments_lexer": "ipython2",
   "version": "2.7.6"
  }
 },
 "nbformat": 4,
 "nbformat_minor": 0
}