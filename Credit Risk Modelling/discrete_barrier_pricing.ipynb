{
 "metadata": {
  "language_info": {
   "codemirror_mode": {
    "name": "ipython",
    "version": 3
   },
   "file_extension": ".py",
   "mimetype": "text/x-python",
   "name": "python",
   "nbconvert_exporter": "python",
   "pygments_lexer": "ipython3",
   "version": "3.8.5-final"
  },
  "orig_nbformat": 2,
  "kernelspec": {
   "name": "python3",
   "display_name": "Python 3.8.5 64-bit ('py38': conda)",
   "metadata": {
    "interpreter": {
     "hash": "c3d9cd6157fce56870c46e68e168492a337f38194acb7373148cb9d190398b94"
    }
   }
  }
 },
 "nbformat": 4,
 "nbformat_minor": 2,
 "cells": [
  {
   "cell_type": "code",
   "execution_count": null,
   "metadata": {},
   "outputs": [],
   "source": [
    "import numpy as np\n",
    "import matplotlib\n",
    "import matplotlib.pyplot as plt\n",
    "plt.style.use(\"ggplot\")"
   ]
  },
  {
   "source": [
    "## Price for discrete down-and-out barrier call:\n",
    "\n",
    "The cell below defines classes for the underlying asset and a down-and-out call barrier option as well as a `calc_optionprices`-function for MC-simulations.\n",
    "\n",
    "The `calc_optionprices`-function just takes a number of simulations and a class that implements a `payoff`-function, so in order to price other options, just implement the corresponding class."
   ],
   "cell_type": "markdown",
   "metadata": {}
  },
  {
   "cell_type": "code",
   "execution_count": null,
   "metadata": {},
   "outputs": [],
   "source": [
    "class asset():\n",
    "    \"\"\"Class for underlyings\"\"\"\n",
    "    def __init__(self, S0, mu, sigma, jumps=0):\n",
    "        self.S0 = S0\n",
    "        self.mu = mu\n",
    "        self.sigma = sigma\n",
    "        self.jumps = jumps\n",
    "\n",
    "    def __repr__(self):\n",
    "        varstring = ', '.join(f\"{k} = {v}\" for k, v in self.__dict__.items())\n",
    "        return f\"{self.__class__.__name__}({varstring})\"\n",
    "    \n",
    "\n",
    "class barrier_option():\n",
    "    \"\"\"Base-class for barrier options\"\"\"\n",
    "    def __init__(self, strike, barrier, timeline, underlying):\n",
    "        self.K = strike\n",
    "        self.timeline = np.array(timeline)\n",
    "        self.B = barrier\n",
    "        self.underlying = underlying\n",
    "\n",
    "    def __repr__(self):\n",
    "        return f\"{self.__class__.__name__}(K = {self.K}, T = {self.T}, B = {self.B})\"\n",
    "\n",
    "    def __str__(self):\n",
    "        return self.__repr__()\n",
    "\n",
    "\n",
    "class barrier_discrete_downandout(barrier_option):\n",
    "    def payoff(self, S):\n",
    "        \"\"\"Calculates and returns payoff given a matrix with underlying prices\"\"\"\n",
    "        max = np.maximum\n",
    "        \n",
    "        # Calculate intrinsic value\n",
    "        P = max(S[:, -1] - self.K, 0)\n",
    "        # Zero payoff if barrier was hit\n",
    "        P *= np.min(S - self.B, axis = 1) > 0\n",
    "\n",
    "        return P\n",
    "\n",
    "\n",
    "def calc_optionprices(n, option):\n",
    "    \"\"\"\n",
    "    Approximates optionprices for the option specified in the option argument using MC-simulations.\n",
    "\n",
    "    Args:\n",
    "        n (int): number of simulations in MC-simulations\n",
    "        option: instance of an option-class\n",
    "    \n",
    "    Returns:\n",
    "        (tuple[float, numpy.array]): \n",
    "            A tuple with calculated option price and statematrix\n",
    "    \"\"\"\n",
    "    S0 = option.underlying.S0\n",
    "    mu = option.underlying.mu\n",
    "    sigma = option.underlying.sigma\n",
    "    jumps = option.underlying.jumps\n",
    "\n",
    "    timeline = option.timeline\n",
    "    # Timedifference in the timeline is called dt\n",
    "    dt = np.diff(timeline, prepend = 0)\n",
    "    T = timeline[-1]\n",
    "    \n",
    "    # Generate random numbers\n",
    "    Z = np.random.normal(0, 1, size = (n, len(timeline))) \n",
    "    \n",
    "    # Calculate state matrix\n",
    "    d1 = mu - (sigma**2) / 2\n",
    "    d2 = d1*dt + sigma*np.sqrt(dt)*Z\n",
    "    S = np.hstack([S0 * np.ones((n, 1)), np.exp(d2)]).cumprod(axis = 1)\n",
    "\n",
    "    # Include jumps. This step is quite complicated as the jumps has to render the values after the jump\n",
    "    # as if it was already there when the values was calculated. Open for suggestions here.\n",
    "    # If `jumps` are zero this step does nothing\n",
    "    S[:, 1:] += (np.hstack([np.exp(d2[:, 1:].cumsum(axis=1)), np.ones((n, 1))]) * jumps).cumsum(axis=1)\n",
    "\n",
    "    # Calculate payoff with the payoff-method of the corresponding option\n",
    "    P = option.payoff(S)\n",
    "\n",
    "    # Apply time-zero discounting\n",
    "    V = np.exp(-mu*T) * P\n",
    "    \n",
    "    # Calculate the MC-estimate\n",
    "    V = np.sum(V)/n\n",
    "\n",
    "    return (V, S)"
   ]
  },
  {
   "source": [
    "## Equity value calculated with a discrete barrier on a process with discrete jumps\n",
    "\n",
    "The `timeline`-array determines for which days MC should simulate values of the underlying. Time 0 are included automatically. \n",
    "\n",
    "The jumps in the `jumps`-array must fall on the dates specified in the `timeline`-array. If you want more steps in the simulation than there are jumps (e.g. for plotting) just set the corresponding jump size to zero (like in the example below). More steps does not give a better approximation though, as the transition probability is known and the step-size can be arbitrarily large without loss of precision. (Unless of course you are evaluating a continuous barrier option, but that is not the case here.)\n",
    "\n",
    "Below are the example with to payments at time 1 and time 2 each with a principal of 50:"
   ],
   "cell_type": "markdown",
   "metadata": {}
  },
  {
   "cell_type": "code",
   "execution_count": null,
   "metadata": {},
   "outputs": [],
   "source": [
    "timeline = np.array([0.5, 1, 1.5, 2])\n",
    "jumps = np.array([0, -50, 0, -50])\n",
    "\n",
    "# Define the underlying, i.e. the firm value\n",
    "underlying = asset(S0=130, mu=0.01, sigma=0.25, jumps=jumps)\n",
    "# Define the option\n",
    "equity = barrier_discrete_downandout(strike=0, barrier=0, timeline=timeline, underlying=underlying)\n",
    "\n",
    "# Calculate prices with MC-simulations\n",
    "equity_value, states = calc_optionprices(n=100000, option=equity)\n",
    "print(f\"Equity value: {equity_value}\")"
   ]
  },
  {
   "source": [
    "## Plot of states\n",
    "You should probably not run the cell below with >100 simulations. Remark that the jumps are not visible per se as they are embedded in the values."
   ],
   "cell_type": "markdown",
   "metadata": {}
  },
  {
   "cell_type": "code",
   "execution_count": null,
   "metadata": {},
   "outputs": [],
   "source": [
    "equity_value, states = calc_optionprices(n=10, option=equity)\n",
    "x = np.hstack([0, timeline])\n",
    "fig, ax = plt.subplots(1, figsize=(12,6))\n",
    "ax.plot(x, states.T, linewidth=0.75) \n",
    "ax.scatter(np.repeat(timeline[-1], states.shape[0]), states[:,-1])\n",
    "ax.plot((0, timeline[-1]), (0, 0), label=\"Default barrier\", color=\"black\", linestyle=\"--\")\n",
    "\n",
    "ax.legend()\n",
    "\n",
    "ax.set_xlim((0, timeline[-1]))\n",
    "ax.xaxis.set_major_locator(matplotlib.ticker.FixedLocator(x))\n",
    "ax.set_xlabel(\"Time\")\n",
    "ax.set_ylabel(\"Firm value\")\n",
    "ax.set_title(\"Realization of firm values\")\n",
    "\n",
    "plt.show()"
   ]
  }
 ]
}